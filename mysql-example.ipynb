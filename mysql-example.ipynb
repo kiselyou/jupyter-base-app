{
 "cells": [
  {
   "cell_type": "code",
   "execution_count": 67,
   "metadata": {
    "scrolled": true
   },
   "outputs": [
    {
     "data": {
      "text/html": [
       "<div>\n",
       "<style scoped>\n",
       "    .dataframe tbody tr th:only-of-type {\n",
       "        vertical-align: middle;\n",
       "    }\n",
       "\n",
       "    .dataframe tbody tr th {\n",
       "        vertical-align: top;\n",
       "    }\n",
       "\n",
       "    .dataframe thead th {\n",
       "        text-align: right;\n",
       "    }\n",
       "</style>\n",
       "<table border=\"1\" class=\"dataframe\">\n",
       "  <thead>\n",
       "    <tr style=\"text-align: right;\">\n",
       "      <th></th>\n",
       "      <th>id</th>\n",
       "      <th>text</th>\n",
       "      <th>createdAt</th>\n",
       "      <th>updatedAt</th>\n",
       "    </tr>\n",
       "  </thead>\n",
       "  <tbody>\n",
       "    <tr>\n",
       "      <th>80</th>\n",
       "      <td>83</td>\n",
       "      <td>sss</td>\n",
       "      <td>2019-07-13 01:43:28</td>\n",
       "      <td>2019-07-13 01:43:28</td>\n",
       "    </tr>\n",
       "    <tr>\n",
       "      <th>81</th>\n",
       "      <td>84</td>\n",
       "      <td>ddd</td>\n",
       "      <td>2019-07-13 01:43:30</td>\n",
       "      <td>2019-07-13 01:43:30</td>\n",
       "    </tr>\n",
       "  </tbody>\n",
       "</table>\n",
       "</div>"
      ],
      "text/plain": [
       "    id text           createdAt           updatedAt\n",
       "80  83  sss 2019-07-13 01:43:28 2019-07-13 01:43:28\n",
       "81  84  ddd 2019-07-13 01:43:30 2019-07-13 01:43:30"
      ]
     },
     "execution_count": 67,
     "metadata": {},
     "output_type": "execute_result"
    }
   ],
   "source": [
    "import lib.mysql\n",
    "\n",
    "df = mysql.query(\"SELECT * FROM message\")\n",
    "df.tail(2)"
   ]
  },
  {
   "cell_type": "markdown",
   "metadata": {},
   "source": [
    "Выгрузить в csv файл. Прочитать csv файл. Перебрать массив."
   ]
  },
  {
   "cell_type": "code",
   "execution_count": 63,
   "metadata": {},
   "outputs": [
    {
     "name": "stdout",
     "output_type": "stream",
     "text": [
      "80 83 sss\n",
      "81 84 ddd\n"
     ]
    }
   ],
   "source": [
    "df = mysql.query(\"SELECT * FROM message\")\n",
    "\n",
    "df.to_csv('tmp/test.csv', header=False, index=False)\n",
    "\n",
    "rows = pandas.read_csv('tmp/test.csv', header=None)\n",
    "for i, row in rows.tail(2).iterrows():\n",
    "  print(i, row[0], row[1])"
   ]
  }
 ],
 "metadata": {
  "kernelspec": {
   "display_name": "Python 3",
   "language": "python",
   "name": "python3"
  },
  "language_info": {
   "codemirror_mode": {
    "name": "ipython",
    "version": 3
   },
   "file_extension": ".py",
   "mimetype": "text/x-python",
   "name": "python",
   "nbconvert_exporter": "python",
   "pygments_lexer": "ipython3",
   "version": "3.5.2"
  }
 },
 "nbformat": 4,
 "nbformat_minor": 2
}
